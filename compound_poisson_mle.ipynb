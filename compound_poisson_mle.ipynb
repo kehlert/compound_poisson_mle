{
 "cells": [
  {
   "cell_type": "markdown",
   "metadata": {},
   "source": [
    "# Overview\n",
    "\n",
    "The goal is to compute a maximum likelihood estimate (MLE) for a particular compound Poisson distribution. First we setup some definitions. Let\n",
    "\n",
    "$$ N\\sim \\text{Poisson}(\\lambda)  \\text{, and } X_j \\stackrel{i.i.d.}{\\sim} \\text{Geometric}(1-p),$$\n",
    "\n",
    "where the range  of the $X_j$ starts at 0. The parameters \\\\(\\lambda\\\\) and \\\\(p\\\\) are assumed to be unknown. We can think of each \\\\(X_j\\\\) as the number of successes before the first failure, where success occurs with probability \\\\(p\\\\).\n",
    "\n",
    "We cannot observe \\\\(N\\\\) or the \\\\(X_j\\\\). Instead, we only observe \\\\(n\\\\) i.i.d. copies of \\\\(Y\\\\), where\n",
    "\n",
    "$$ Y = \\sum_{j=1}^N X_j.$$\n",
    "\n",
    "Such a \\\\(Y\\\\) might arise in biology. Perhaps transcription of a gene occurs according to a Poisson process, and once transcription begins, we model the number of mRNA transcripts with a geometric random variable.\n",
    "\n",
    "Let \\\\(\\{Y_i\\}_{i=1}^n\\\\) denote the i.i.d. copies of \\\\(Y\\\\). The goal is to find the maximum likelihood estimates of \\\\(\\lambda\\\\) and \\\\(p\\\\) in a reasonable amount of time without using approximations (other than numerical error). In other words, we want to compute\n",
    "\n",
    "$$\\underset{\\lambda,p}{\\arg\\max} \\sum_{i=1}^n \\log P(Y=y_i; \\lambda, p)$$\n",
    "\n",
    "subject to the constraints \\\\(\\lambda \\ge 0\\\\) and \\\\(\\epsilon \\le p \\le 1 - \\epsilon\\\\) for some chosen \\\\(\\epsilon \\in (0, 1/2)\\\\).\n",
    "\n",
    "The rest of this document is split into multiple sections. First, we will write down the expectation, variance, and probability mass function (p.m.f.) of \\\\(Y\\\\) and its derivatives. Second, we will check the p.m.f. by simulating observations of \\\\(Y\\\\)  and comparing the corresponding histogram to the p.m.f. values. Third, we will check the derivatives via finite differences. Finally, we will use SciPy's optimization library to compute the MLE.\n",
    "\n",
    "It seems that this idea can be extended to a generalized linear model, where the parameters \\\\(\\lambda\\\\) and \\\\(p\\\\) depend on known covariates and unknown parameters.\n",
    "\n",
    "# The expectation and variance\n",
    "\n",
    "The expectation and variance are easy to derive, so we start with those. The law of total expectation implies that\n",
    "\n",
    "$$\n",
    "\\begin{align*}\n",
    "\\mathbb{E}[Y] &= \\mathbb{E}[\\mathbb{E}[Y | N]] \\\\\n",
    "&= \\mathbb{E}[N p / (1-p)] \\\\\n",
    "&= \\frac{\\lambda p }{1-p} \\\\\n",
    "\\end{align*}\n",
    "$$\n",
    "\n",
    "Similarly, from law of total variance \n",
    "\n",
    "$$\n",
    "\\begin{align*}\n",
    "\\text{Var}(Y) &= \\mathbb{E}[\\text{Var}(Y|N)] + \\text{Var}(\\mathbb{E}[Y|N]) \\\\\n",
    "&= \\mathbb{E}[N p / (1-p)^2] + \\text{Var}(N p/(1-p)) \\\\\n",
    "&= \\frac{\\lambda p}{(1-p)^2} + \\frac{\\lambda p^2}{(1-p)^2} \\\\\n",
    "&= \\frac{\\lambda p(1+p)}{(1-p)^2} \\\\\n",
    "\\end{align*}\n",
    "$$\n",
    "\n",
    "Before we proceed, we should state the following fact, because it will be useful later. A finite sum of i.i.d. geometric random variables follows a [negative binomial distribution](https://en.wikipedia.org/wiki/Negative_binomial_distribution#Distribution_of_a_sum_of_geometrically_distributed_random_variables). Therefore, if we condition on \\\\(N\\\\), \\\\(Y\\\\) is a negative binomial random variable with parameters \\\\(N\\\\) and \\\\(p\\\\).\n",
    "\n",
    "Next we check the above moment computations through simulation. We will also show that the negative binomial construction gives the same results. Since there are different parameterizations of the geometric and negative binomial distributions, it is always a good idea to make sure our parameterizations are consistent. If the expectation and variance are correct, then chances are the parameterizations are right.\n"
   ]
  },
  {
   "cell_type": "code",
   "execution_count": 1,
   "metadata": {},
   "outputs": [
    {
     "name": "stdout",
     "output_type": "stream",
     "text": [
      "true expectation: 24.00000000000001\n",
      "true variance: 216.00000000000017\n",
      "\n",
      "-------------------------\n",
      "\n",
      "GEOMETRIC CONSTRUCTION\n",
      "sample mean : 23.978914\n",
      "sample variance : 215.94406138060404\n",
      "standard error: 0.014695035262992874\n",
      "\n",
      "-------------------------\n",
      "\n",
      "NEGATIVE BINOMIAL CONSTRUCTION\n",
      "sample mean: 23.977067\n",
      "sample variance: 215.720759077511\n",
      "standard error: 0.014687435415262632\n",
      "\n",
      "-------------------------\n",
      "\n",
      "slope of the line: 0.9997964326603934\n"
     ]
    },
    {
     "data": {
      "image/png": "[encoded data removed]",
      "text/plain": [
       "<Figure size 432x288 with 1 Axes>"
      ]
     },
     "metadata": {
      "needs_background": "light"
     },
     "output_type": "display_data"
    }
   ],
   "source": [
    "import matplotlib.pyplot as plt\n",
    "import numpy as np\n",
    "import scipy.stats\n",
    "\n",
    "lmbda = 6\n",
    "p = 0.8\n",
    "samples = 10**6\n",
    "\n",
    "N = np.random.poisson(lmbda, size=samples)\n",
    "\n",
    "###########################\n",
    "# construct the Y observations with geometric random variables\n",
    "###########################\n",
    "\n",
    "#the -1 is so they start from 0 instead of 1\n",
    "geom = np.random.geometric(1-p, size=np.sum(N)) - 1 \n",
    "Y_geom = np.array([np.sum(arr) for arr in np.split(geom, np.cumsum(N))[:-1]], dtype=np.int)\n",
    "\n",
    "###########################\n",
    "# construct the Y observations with negative binomial random variables\n",
    "###########################\n",
    "\n",
    "#np.random.negative_binomial(N, p) does not handle zeros values in N, so we need to work around it\n",
    "altered_N = np.copy(N)\n",
    "np.putmask(altered_N, N == 0, 1)\n",
    "Y_neg_binom = np.random.negative_binomial(altered_N, 1-p)\n",
    "np.putmask(Y_neg_binom, N == 0, 0) \n",
    "\n",
    "###########################\n",
    "# display the results\n",
    "###########################\n",
    "\n",
    "true_expect = lmbda * p / (1-p)\n",
    "true_var = lmbda * p * (1+p) / (1-p)**2\n",
    "\n",
    "print(f'true expectation: {true_expect}')\n",
    "print(f'true variance: {true_var}')\n",
    "print('\\n-------------------------\\n')\n",
    "\n",
    "print('GEOMETRIC CONSTRUCTION')\n",
    "print(f'sample mean : {np.mean(Y_geom)}')\n",
    "print(f'sample variance : {np.var(Y_geom)}')\n",
    "print(f'standard error: {np.std(Y_geom)/np.sqrt(samples)}')\n",
    "print('\\n-------------------------\\n')\n",
    "\n",
    "print('NEGATIVE BINOMIAL CONSTRUCTION')\n",
    "print(f'sample mean: {np.mean(Y_neg_binom)}')\n",
    "print(f'sample variance: {np.var(Y_neg_binom)}')\n",
    "print(f'standard error: {np.std(Y_neg_binom)/np.sqrt(samples)}')\n",
    "print('\\n-------------------------\\n')\n",
    "\n",
    "#make a QQ plot for the two constructions, should roughly see a line with slope 1\n",
    "#good for detecting subtle errors, especially in the tails\n",
    "sorted_Y_geom = np.sort(Y_geom)\n",
    "sorted_Y_neg_binom = np.sort(Y_neg_binom)\n",
    "\n",
    "slope = np.linalg.lstsq(np.reshape(sorted_Y_geom, (-1, 1)), sorted_Y_neg_binom, rcond=None)[0][0]\n",
    "\n",
    "plt.scatter(sorted_Y_geom, sorted_Y_neg_binom)\n",
    "plt.plot(sorted_Y_geom, slope * sorted_Y_geom, color='r')\n",
    "plt.xlabel('Sorted Y (from geometric)')\n",
    "plt.ylabel('Sorted Y (from negative binomial)')\n",
    "print(f'slope of the line: {slope}')"
   ]
  },
  {
   "cell_type": "markdown",
   "metadata": {},
   "source": [
    "# Probability mass function\n",
    "\n"
   ]
  },
  {
   "cell_type": "code",
   "execution_count": null,
   "metadata": {},
   "outputs": [],
   "source": []
  }
 ],
 "metadata": {
  "kernelspec": {
   "display_name": "Python 3",
   "language": "python",
   "name": "python3"
  },
  "language_info": {
   "codemirror_mode": {
    "name": "ipython",
    "version": 3
   },
   "file_extension": ".py",
   "mimetype": "text/x-python",
   "name": "python",
   "nbconvert_exporter": "python",
   "pygments_lexer": "ipython3",
   "version": "3.6.9"
  }
 },
 "nbformat": 4,
 "nbformat_minor": 2
}
